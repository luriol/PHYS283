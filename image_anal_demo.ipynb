{
 "cells": [
  {
   "cell_type": "code",
   "execution_count": 37,
   "id": "26858f82",
   "metadata": {},
   "outputs": [
    {
     "data": {
      "text/plain": [
       "Text(0.5, 1.0, 'angled cross section through blue image')"
      ]
     },
     "execution_count": 37,
     "metadata": {},
     "output_type": "execute_result"
    }
   ],
   "source": [
    "from matplotlib import image\n",
    "from matplotlib import pyplot as plt\n",
    "import numpy as np\n",
    "%matplotlib inline\n",
    "#%matplotlib qt\n",
    "image = image.imread('new_blue.jpg')  # read in the jpeg image\n",
    "bimage = image[:,:,2] #just select the \"blue\"\n",
    "fig = plt.figure('image plot')\n",
    "plt.clf()                         # erase the old image\n",
    "plt.imshow(gimage)               # plot the image\n",
    "#just guess values for x and y until the white line lines up with the streak on the camera\n",
    "x = [100,2320]\n",
    "y = [280,413]\n",
    "plt.plot(x,y,'-w')                # plot x and y as a white line on the image\n",
    "plt.show()\n",
    "#%%\n",
    "# Now we have to do a little work to collect the data just along the line we picked\n",
    "nxpt = bimage.shape[1]           # find number of x values\n",
    "# define list of x-values going from 0 to maximum lengt of x-axis on camera in pixels\n",
    "xarray = np.arange(nxpt).astype(int) \n",
    "# pick the y-values corresponding to the value of the white line \n",
    "yarray = (y[0]+xarray*(y[-1]-y[0])/nxpt).astype(int)\n",
    "# select the intensity values fromt the image that lie along the white line\n",
    "pts = bimage[yarray,xarray]\n",
    "# a little math, to convert length along the x-axis into length along the white line\n",
    "Dx = xarray[-1]-xarray[0]\n",
    "Dy = yarray[-1]-yarray[0]\n",
    "Ds = np.sqrt(Dx**2+Dy**2)/Dx\n",
    "sarray = Ds*xarray\n",
    "#Now convert from pixel distance to degrees\n",
    "# assuming spacing between lines marked on paper is 1.17 cm, and 10 of these lines corresponds\n",
    "# to (2150-1338) pixels and the distance to the scree is 1.8 m\n",
    "th = np.arctan(sarray*1.17e-2/(2150-1338)/1.8)\n",
    "th = th*180/np.pi\n",
    "# now plot the cross section we just selected and label the plot\n",
    "plt.figure('section plot')\n",
    "plt.clf()\n",
    "plt.plot(th,pts)\n",
    "plt.xlabel('angle (degrees)')\n",
    "plt.ylabel('Intensity')\n",
    "plt.title('angled cross section through blue image')"
   ]
  },
  {
   "cell_type": "code",
   "execution_count": null,
   "id": "fcd091ab",
   "metadata": {},
   "outputs": [],
   "source": []
  }
 ],
 "metadata": {
  "kernelspec": {
   "display_name": "Python 3",
   "language": "python",
   "name": "python3"
  },
  "language_info": {
   "codemirror_mode": {
    "name": "ipython",
    "version": 3
   },
   "file_extension": ".py",
   "mimetype": "text/x-python",
   "name": "python",
   "nbconvert_exporter": "python",
   "pygments_lexer": "ipython3",
   "version": "3.7.3"
  }
 },
 "nbformat": 4,
 "nbformat_minor": 5
}
